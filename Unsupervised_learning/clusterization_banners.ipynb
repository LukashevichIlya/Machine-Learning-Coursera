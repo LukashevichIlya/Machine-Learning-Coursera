{
 "cells": [
  {
   "cell_type": "markdown",
   "metadata": {},
   "source": [
    "# Задание по программированию: Размещение баннеров"
   ]
  },
  {
   "cell_type": "markdown",
   "metadata": {},
   "source": [
    "Представим, что международное круизное агентство Carnival Cruise Line решило себя разрекламировать с помощью баннеров и обратилось для этого к вам. Чтобы протестировать, велика ли от таких баннеров польза, их будет размещено всего 20 штук по всему миру. Вам надо выбрать 20 таких локаций для размещения, чтобы польза была большой и агентство продолжило с вами сотрудничать.\n",
    "\n",
    "Агентство крупное, и у него есть несколько офисов по всему миру. Вблизи этих офисов оно и хочет разместить баннеры — легче договариваться и проверять результат. Также эти места должны быть популярны среди туристов.\n",
    "\n",
    "Для поиска оптимальных мест воспользуемся базой данных крупнейшей социальной сети, основанной на локациях — Foursquare.\n",
    "\n",
    "Часть открытых данных есть, например, на сайте archive.org:\n",
    "\n",
    "https://archive.org/details/201309_foursquare_dataset_umn"
   ]
  },
  {
   "cell_type": "code",
   "execution_count": 1,
   "metadata": {},
   "outputs": [],
   "source": [
    "import numpy as np\n",
    "import pandas as pd"
   ]
  },
  {
   "cell_type": "code",
   "execution_count": 2,
   "metadata": {},
   "outputs": [],
   "source": [
    "data = []\n",
    "\n",
    "with open('checkins.dat') as file:\n",
    "    column_types = list(map(lambda x: x.strip(), file.readline().strip().split('|')))\n",
    "    for item in file:\n",
    "        values = list(map(lambda x: x.strip(), item.strip().split('|')))\n",
    "        if len(values) == len(column_types):\n",
    "            data.append(values)"
   ]
  },
  {
   "cell_type": "code",
   "execution_count": 3,
   "metadata": {},
   "outputs": [
    {
     "name": "stdout",
     "output_type": "stream",
     "text": [
      "        id  user_id venue_id    latitude     longitude           created_at\n",
      "1   984222    15824     5222  38.8951118   -77.0363658  2012-04-21 17:43:47\n",
      "3   984234    44652     5222   33.800745     -84.41052  2012-04-21 17:43:43\n",
      "7   984291   105054     5222  45.5234515  -122.6762071  2012-04-21 17:39:22\n",
      "9   984318  2146539     5222   40.764462   -111.904565  2012-04-21 17:35:46\n",
      "10  984232    93870   380645  33.4483771  -112.0740373  2012-04-21 17:38:18\n"
     ]
    }
   ],
   "source": [
    "data_df = pd.DataFrame(data)\n",
    "data_df.columns = column_types\n",
    "data_df = data_df[(data_df.longitude != '') & (data_df.latitude != '')]\n",
    "print(data_df.head())"
   ]
  },
  {
   "cell_type": "code",
   "execution_count": 4,
   "metadata": {},
   "outputs": [],
   "source": [
    "data_df.to_csv('data.csv')"
   ]
  },
  {
   "cell_type": "markdown",
   "metadata": {},
   "source": [
    "Теперь необходимо кластеризовать данные координаты, чтобы выявить центры скоплений туристов. Поскольку баннеры имеют сравнительно небольшую площадь действия, нам нужен алгоритм, позволяющий ограничить размер кластера и не зависящий от количества кластеров.\n",
    "\n",
    "Эта задача — хороший повод познакомиться с алгоритмом MeanShift, который мы обошли стороной в основной части лекций. Его описание при желании можно посмотреть в sklearn user guide, а чуть позже появится дополнительное видео с обзором этого и некоторых других алгоритмов кластеризации. Используйте MeanShift, указав bandwidth=0.1, что в переводе из градусов в метры колеблется примерно от 5 до 10 км в средних широтах."
   ]
  },
  {
   "cell_type": "code",
   "execution_count": 5,
   "metadata": {},
   "outputs": [],
   "source": [
    "coordinates = data_df[['latitude', 'longitude']]"
   ]
  },
  {
   "cell_type": "code",
   "execution_count": 6,
   "metadata": {},
   "outputs": [],
   "source": [
    "coordinates = coordinates[:100000]"
   ]
  },
  {
   "cell_type": "code",
   "execution_count": 7,
   "metadata": {},
   "outputs": [
    {
     "name": "stdout",
     "output_type": "stream",
     "text": [
      "          latitude     longitude\n",
      "1       38.8951118   -77.0363658\n",
      "3        33.800745     -84.41052\n",
      "7       45.5234515  -122.6762071\n",
      "9        40.764462   -111.904565\n",
      "10      33.4483771  -112.0740373\n",
      "...            ...           ...\n",
      "233788      33.575  -117.7255556\n",
      "233789   37.629349   -122.400087\n",
      "233793  29.7628844   -95.3830615\n",
      "233797   32.802955    -96.769923\n",
      "233798  37.7749295  -122.4194155\n",
      "\n",
      "[100000 rows x 2 columns]\n"
     ]
    }
   ],
   "source": [
    "print(coordinates)"
   ]
  },
  {
   "cell_type": "code",
   "execution_count": 8,
   "metadata": {},
   "outputs": [],
   "source": [
    "from sklearn.cluster import MeanShift"
   ]
  },
  {
   "cell_type": "code",
   "execution_count": 9,
   "metadata": {},
   "outputs": [
    {
     "data": {
      "text/plain": [
       "MeanShift(bandwidth=0.1, bin_seeding=False, cluster_all=True, min_bin_freq=1,\n",
       "          n_jobs=None, seeds=None)"
      ]
     },
     "execution_count": 9,
     "metadata": {},
     "output_type": "execute_result"
    }
   ],
   "source": [
    "model = MeanShift(bandwidth=0.1)\n",
    "model.fit(coordinates)"
   ]
  },
  {
   "cell_type": "code",
   "execution_count": 10,
   "metadata": {},
   "outputs": [],
   "source": [
    "coordinates['cluster'] = model.predict(coordinates)"
   ]
  },
  {
   "cell_type": "code",
   "execution_count": 11,
   "metadata": {},
   "outputs": [
    {
     "name": "stdout",
     "output_type": "stream",
     "text": [
      "          latitude     longitude  cluster\n",
      "1       38.8951118   -77.0363658        5\n",
      "3        33.800745     -84.41052        7\n",
      "7       45.5234515  -122.6762071       30\n",
      "9        40.764462   -111.904565       65\n",
      "10      33.4483771  -112.0740373        1\n",
      "...            ...           ...      ...\n",
      "233788      33.575  -117.7255556       50\n",
      "233789   37.629349   -122.400087        4\n",
      "233793  29.7628844   -95.3830615       25\n",
      "233797   32.802955    -96.769923       19\n",
      "233798  37.7749295  -122.4194155        4\n",
      "\n",
      "[100000 rows x 3 columns]\n"
     ]
    }
   ],
   "source": [
    "print(coordinates)"
   ]
  },
  {
   "cell_type": "markdown",
   "metadata": {},
   "source": [
    "Некоторые из получившихся кластеров содержат слишком мало точек — такие кластеры не интересны рекламодателям. Поэтому надо определить, какие из кластеров содержат, скажем, больше 15 элементов. Центры этих кластеров и являются оптимальными для размещения."
   ]
  },
  {
   "cell_type": "code",
   "execution_count": 12,
   "metadata": {},
   "outputs": [
    {
     "name": "stdout",
     "output_type": "stream",
     "text": [
      "         clust_size\n",
      "cluster            \n",
      "0             12506\n",
      "1              4692\n",
      "2              3994\n",
      "3              3363\n",
      "4              3526\n",
      "...             ...\n",
      "3226              1\n",
      "3227              1\n",
      "3228              1\n",
      "3229              1\n",
      "3230              1\n",
      "\n",
      "[3231 rows x 1 columns]\n"
     ]
    }
   ],
   "source": [
    "cluster_size = pd.DataFrame(coordinates.pivot_table(index = 'cluster', aggfunc = 'count', values = 'longitude'))\n",
    "cluster_size.columns = ['clust_size']\n",
    "print(cluster_size)"
   ]
  },
  {
   "cell_type": "code",
   "execution_count": 13,
   "metadata": {},
   "outputs": [
    {
     "name": "stdout",
     "output_type": "stream",
     "text": [
      "   center_latitude  center_longitude  clust_size\n",
      "0        40.717716        -73.991835       12506\n",
      "1        33.449438       -112.002140        4692\n",
      "2        33.446380       -111.901888        3994\n",
      "3        41.878244        -87.629843        3363\n",
      "4        37.688682       -122.409330        3526\n"
     ]
    }
   ],
   "source": [
    "cluster_centers = pd.DataFrame(model.cluster_centers_)\n",
    "cluster_centers.columns = ['center_latitude', 'center_longitude']\n",
    "cluster_centers = cluster_centers.join(cluster_size)\n",
    "cluster_centers = cluster_centers[cluster_centers.clust_size > 15]\n",
    "print(cluster_centers.head())"
   ]
  },
  {
   "cell_type": "markdown",
   "metadata": {},
   "source": [
    "Как мы помним, 20 баннеров надо разместить близ офисов компании. Найдем на Google Maps по запросу Carnival Cruise Line адреса всех офисов."
   ]
  },
  {
   "cell_type": "code",
   "execution_count": 14,
   "metadata": {},
   "outputs": [],
   "source": [
    "offices_coordinates = [(33.751277, -118.188740), (25.867736, -80.324116), (51.503016, -0.075479),\n",
    "                       (52.378894, 4.885084), (39.366487, 117.036146), (-33.868457, 151.205134)]"
   ]
  },
  {
   "cell_type": "markdown",
   "metadata": {},
   "source": [
    "Осталось определить 20 ближайших к ним центров кластеров. Т.е. посчитать дистанцию до ближайшего офиса для каждой точки и выбрать 20 с наименьшим значением."
   ]
  },
  {
   "cell_type": "code",
   "execution_count": 15,
   "metadata": {},
   "outputs": [],
   "source": [
    "def distance(cl_lat, cl_long, off_lat, off_long):\n",
    "    return ((cl_lat - off_lat) ** 2 + (cl_long - off_long) ** 2) ** 0.5"
   ]
  },
  {
   "cell_type": "code",
   "execution_count": 16,
   "metadata": {},
   "outputs": [],
   "source": [
    "def dist_to_nearest_office(cl_lat, cl_long):\n",
    "    distances = np.array([])\n",
    "    for office in offices_coordinates:\n",
    "        distances = np.append(distances, distance(cl_lat, cl_long, office[0], office[1]))\n",
    "    return distances.min()"
   ]
  },
  {
   "cell_type": "code",
   "execution_count": 17,
   "metadata": {},
   "outputs": [],
   "source": [
    "cluster_centers['nearest_office_dist'] = list(map(dist_to_nearest_office, cluster_centers.center_latitude,\n",
    "                                                  cluster_centers.center_longitude))"
   ]
  },
  {
   "cell_type": "code",
   "execution_count": 18,
   "metadata": {},
   "outputs": [],
   "source": [
    "cluster_centers = cluster_centers.sort_values(by = ['nearest_office_dist'])"
   ]
  },
  {
   "cell_type": "code",
   "execution_count": 19,
   "metadata": {},
   "outputs": [
    {
     "data": {
      "text/html": [
       "<div>\n",
       "<style scoped>\n",
       "    .dataframe tbody tr th:only-of-type {\n",
       "        vertical-align: middle;\n",
       "    }\n",
       "\n",
       "    .dataframe tbody tr th {\n",
       "        vertical-align: top;\n",
       "    }\n",
       "\n",
       "    .dataframe thead th {\n",
       "        text-align: right;\n",
       "    }\n",
       "</style>\n",
       "<table border=\"1\" class=\"dataframe\">\n",
       "  <thead>\n",
       "    <tr style=\"text-align: right;\">\n",
       "      <th></th>\n",
       "      <th>center_latitude</th>\n",
       "      <th>center_longitude</th>\n",
       "      <th>clust_size</th>\n",
       "      <th>nearest_office_dist</th>\n",
       "    </tr>\n",
       "  </thead>\n",
       "  <tbody>\n",
       "    <tr>\n",
       "      <td>420</td>\n",
       "      <td>-33.860630</td>\n",
       "      <td>151.204776</td>\n",
       "      <td>28</td>\n",
       "      <td>0.007835</td>\n",
       "    </tr>\n",
       "    <tr>\n",
       "      <td>370</td>\n",
       "      <td>52.372964</td>\n",
       "      <td>4.892317</td>\n",
       "      <td>31</td>\n",
       "      <td>0.009353</td>\n",
       "    </tr>\n",
       "    <tr>\n",
       "      <td>419</td>\n",
       "      <td>25.845672</td>\n",
       "      <td>-80.318891</td>\n",
       "      <td>28</td>\n",
       "      <td>0.022674</td>\n",
       "    </tr>\n",
       "    <tr>\n",
       "      <td>58</td>\n",
       "      <td>51.502991</td>\n",
       "      <td>-0.125537</td>\n",
       "      <td>254</td>\n",
       "      <td>0.050058</td>\n",
       "    </tr>\n",
       "    <tr>\n",
       "      <td>51</td>\n",
       "      <td>33.809878</td>\n",
       "      <td>-118.148924</td>\n",
       "      <td>281</td>\n",
       "      <td>0.070848</td>\n",
       "    </tr>\n",
       "    <tr>\n",
       "      <td>...</td>\n",
       "      <td>...</td>\n",
       "      <td>...</td>\n",
       "      <td>...</td>\n",
       "      <td>...</td>\n",
       "    </tr>\n",
       "    <tr>\n",
       "      <td>105</td>\n",
       "      <td>-23.549518</td>\n",
       "      <td>-46.638219</td>\n",
       "      <td>116</td>\n",
       "      <td>59.806393</td>\n",
       "    </tr>\n",
       "    <tr>\n",
       "      <td>433</td>\n",
       "      <td>-33.425741</td>\n",
       "      <td>-70.570740</td>\n",
       "      <td>27</td>\n",
       "      <td>60.090305</td>\n",
       "    </tr>\n",
       "    <tr>\n",
       "      <td>262</td>\n",
       "      <td>-22.903539</td>\n",
       "      <td>-43.209587</td>\n",
       "      <td>47</td>\n",
       "      <td>61.287238</td>\n",
       "    </tr>\n",
       "    <tr>\n",
       "      <td>103</td>\n",
       "      <td>-0.301226</td>\n",
       "      <td>36.522964</td>\n",
       "      <td>120</td>\n",
       "      <td>61.450391</td>\n",
       "    </tr>\n",
       "    <tr>\n",
       "      <td>448</td>\n",
       "      <td>-34.611996</td>\n",
       "      <td>-58.371865</td>\n",
       "      <td>26</td>\n",
       "      <td>64.340495</td>\n",
       "    </tr>\n",
       "  </tbody>\n",
       "</table>\n",
       "<p>592 rows × 4 columns</p>\n",
       "</div>"
      ],
      "text/plain": [
       "     center_latitude  center_longitude  clust_size  nearest_office_dist\n",
       "420       -33.860630        151.204776          28             0.007835\n",
       "370        52.372964          4.892317          31             0.009353\n",
       "419        25.845672        -80.318891          28             0.022674\n",
       "58         51.502991         -0.125537         254             0.050058\n",
       "51         33.809878       -118.148924         281             0.070848\n",
       "..               ...               ...         ...                  ...\n",
       "105       -23.549518        -46.638219         116            59.806393\n",
       "433       -33.425741        -70.570740          27            60.090305\n",
       "262       -22.903539        -43.209587          47            61.287238\n",
       "103        -0.301226         36.522964         120            61.450391\n",
       "448       -34.611996        -58.371865          26            64.340495\n",
       "\n",
       "[592 rows x 4 columns]"
      ]
     },
     "execution_count": 19,
     "metadata": {},
     "output_type": "execute_result"
    }
   ],
   "source": [
    "cluster_centers"
   ]
  },
  {
   "cell_type": "code",
   "execution_count": 20,
   "metadata": {},
   "outputs": [],
   "source": [
    "with open('answer_cluster_banner.txt', 'w') as fout:\n",
    "    fout.write(str(cluster_centers.iloc[0]['center_latitude']) + ' ' + \n",
    "               str(cluster_centers.iloc[0]['center_longitude']))"
   ]
  }
 ],
 "metadata": {
  "kernelspec": {
   "display_name": "Python 3",
   "language": "python",
   "name": "python3"
  },
  "language_info": {
   "codemirror_mode": {
    "name": "ipython",
    "version": 3
   },
   "file_extension": ".py",
   "mimetype": "text/x-python",
   "name": "python",
   "nbconvert_exporter": "python",
   "pygments_lexer": "ipython3",
   "version": "3.7.4"
  }
 },
 "nbformat": 4,
 "nbformat_minor": 2
}
